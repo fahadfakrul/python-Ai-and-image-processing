{
  "nbformat": 4,
  "nbformat_minor": 0,
  "metadata": {
    "colab": {
      "provenance": [],
      "authorship_tag": "ABX9TyMQ2b3XlfOu0ZqTomSZRiG7",
      "include_colab_link": true
    },
    "kernelspec": {
      "name": "python3",
      "display_name": "Python 3"
    },
    "language_info": {
      "name": "python"
    }
  },
  "cells": [
    {
      "cell_type": "markdown",
      "metadata": {
        "id": "view-in-github",
        "colab_type": "text"
      },
      "source": [
        "<a href=\"https://colab.research.google.com/github/fahadfakrul/python-bfs-and-dfs-implemntation/blob/main/41210201589_Fahad_Ai1.ipynb\" target=\"_parent\"><img src=\"https://colab.research.google.com/assets/colab-badge.svg\" alt=\"Open In Colab\"/></a>"
      ]
    },
    {
      "cell_type": "markdown",
      "source": [
        "Breadth-First Search (BFS)"
      ],
      "metadata": {
        "id": "YHFsdFsZr_80"
      }
    },
    {
      "cell_type": "code",
      "execution_count": null,
      "metadata": {
        "id": "53UJ8iIDrqDu"
      },
      "outputs": [],
      "source": [
        "from collections import deque"
      ]
    },
    {
      "cell_type": "code",
      "source": [
        "def bfs(graph, start):\n",
        "  visited = set()\n",
        "  queue = deque([start])\n",
        "  visited.add(start)\n",
        "\n",
        "  while queue:\n",
        "    vertex = queue.popleft()\n",
        "    print(vertex, end=\" \")\n",
        "\n",
        "    for neighbor in graph[vertex]:\n",
        "      if neighbor not in visited:\n",
        "        visited.add(neighbor)\n",
        "        queue.append(neighbor)"
      ],
      "metadata": {
        "id": "tM0O_0avsaGZ"
      },
      "execution_count": null,
      "outputs": []
    },
    {
      "cell_type": "code",
      "source": [
        "graph = {\n",
        "    'A': ['B', 'C'],\n",
        "    'B': ['A', 'D', 'E'],\n",
        "    'C': ['A', 'F', 'G'],\n",
        "    'D': ['B'],\n",
        "    'E': ['B', 'F'],\n",
        "    'F': ['C', 'E'],\n",
        "    'G': ['C']\n",
        "}"
      ],
      "metadata": {
        "id": "t-8lee19tZ4E"
      },
      "execution_count": null,
      "outputs": []
    },
    {
      "cell_type": "code",
      "source": [
        "bfs(graph, 'A')"
      ],
      "metadata": {
        "colab": {
          "base_uri": "https://localhost:8080/"
        },
        "id": "g7S8XUomt-Yj",
        "outputId": "625b0a0c-40db-4149-b057-9f518d9db6f6"
      },
      "execution_count": null,
      "outputs": [
        {
          "output_type": "stream",
          "name": "stdout",
          "text": [
            "A B C D E F G "
          ]
        }
      ]
    },
    {
      "cell_type": "markdown",
      "source": [
        "Depth-First Search (DFS)"
      ],
      "metadata": {
        "id": "jQwUjxaXu7PT"
      }
    },
    {
      "cell_type": "code",
      "source": [
        "def dfs(graph, start, visited=None):\n",
        "  if visited is None:\n",
        "    visited = set()\n",
        "  visited.add(start)\n",
        "  print(start,end=\" \")\n",
        "\n",
        "  for neighbor in graph[start]:\n",
        "    if neighbor not in visited:\n",
        "      dfs(graph, neighbor, visited)"
      ],
      "metadata": {
        "id": "lKUR1oQPu_lS"
      },
      "execution_count": null,
      "outputs": []
    },
    {
      "cell_type": "code",
      "source": [
        "dfs(graph, 'A')"
      ],
      "metadata": {
        "colab": {
          "base_uri": "https://localhost:8080/"
        },
        "id": "nBZtXIR_vkrA",
        "outputId": "915b0385-c61b-4083-d328-dfaf34c3407b"
      },
      "execution_count": null,
      "outputs": [
        {
          "output_type": "stream",
          "name": "stdout",
          "text": [
            "A B D E F C G "
          ]
        }
      ]
    },
    {
      "cell_type": "code",
      "source": [
        "graph = {\n",
        "    'Jatrabari': ['Kazi Riaz Uddin Road', 'Shaheed Faruk Road'],\n",
        "    'Kazi Riaz Uddin Road': ['Jatrabari', 'North Jatrabari', 'Donia'],\n",
        "    'Shaheed Faruk Road': ['Jatrabari', 'Sayedabad'],\n",
        "    'North Jatrabari': ['Kazi Riaz Uddin Road'],\n",
        "    'Donia': ['Kazi Riaz Uddin Road', 'Sayedabad'],\n",
        "    'Sayedabad': ['Shaheed Faruk Road', 'Donia']\n",
        "}"
      ],
      "metadata": {
        "id": "HSL-B055v0aU"
      },
      "execution_count": null,
      "outputs": []
    },
    {
      "cell_type": "code",
      "source": [
        "bfs(graph, 'Jatrabari')"
      ],
      "metadata": {
        "colab": {
          "base_uri": "https://localhost:8080/"
        },
        "id": "s75X4gDExVMw",
        "outputId": "8c6edae7-91e3-4f5e-fa40-6929935b2032"
      },
      "execution_count": null,
      "outputs": [
        {
          "output_type": "stream",
          "name": "stdout",
          "text": [
            "Jatrabari Kazi Riaz Uddin Road Shaheed Faruk Road North Jatrabari Donia Sayedabad "
          ]
        }
      ]
    },
    {
      "cell_type": "code",
      "source": [
        "dfs(graph, 'Jatrabari')"
      ],
      "metadata": {
        "colab": {
          "base_uri": "https://localhost:8080/"
        },
        "id": "T6h-CaF7xeRH",
        "outputId": "90091aef-d7d4-49c2-db36-b1a5d14da031"
      },
      "execution_count": null,
      "outputs": [
        {
          "output_type": "stream",
          "name": "stdout",
          "text": [
            "Jatrabari Kazi Riaz Uddin Road North Jatrabari Donia Sayedabad Shaheed Faruk Road "
          ]
        }
      ]
    }
  ]
}