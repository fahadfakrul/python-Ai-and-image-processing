{
  "nbformat": 4,
  "nbformat_minor": 0,
  "metadata": {
    "colab": {
      "provenance": [],
      "include_colab_link": true
    },
    "kernelspec": {
      "name": "python3",
      "display_name": "Python 3"
    },
    "language_info": {
      "name": "python"
    }
  },
  "cells": [
    {
      "cell_type": "markdown",
      "metadata": {
        "id": "view-in-github",
        "colab_type": "text"
      },
      "source": [
        "<a href=\"https://colab.research.google.com/github/fahadfakrul/python-Ai-and-image-processing/blob/main/41210201589_Lab02_AI.ipynb\" target=\"_parent\"><img src=\"https://colab.research.google.com/assets/colab-badge.svg\" alt=\"Open In Colab\"/></a>"
      ]
    },
    {
      "cell_type": "code",
      "source": [
        "# Best-First Search Implementation\n",
        "import heapq\n",
        "\n",
        "def best_first_search(graph, start, goal, heuristic):\n",
        "    open_list = []\n",
        "    heapq.heappush(open_list, (heuristic[start], start))\n",
        "    came_from = {start: None}\n",
        "    cost_so_far = {start: 0}\n",
        "\n",
        "    while open_list:\n",
        "        _, current = heapq.heappop(open_list)\n",
        "\n",
        "        if current == goal:\n",
        "            break\n",
        "\n",
        "        for neighbor, cost in graph[current]:\n",
        "            if neighbor not in came_from:\n",
        "                priority = heuristic[neighbor]\n",
        "                heapq.heappush(open_list, (priority, neighbor))\n",
        "                came_from[neighbor] = current\n",
        "                cost_so_far[neighbor] = cost_so_far[current] + cost\n",
        "\n",
        "    path = []\n",
        "    node = goal\n",
        "    while node is not None:\n",
        "        path.append(node)\n",
        "        node = came_from[node]\n",
        "    path.reverse()\n",
        "    return path\n",
        "\n",
        "# Define the graph as an adjacency list with edge costs\n",
        "graph = {\n",
        "    'A': [('B', 1), ('C', 4), ('D', 2)],\n",
        "    'B': [('E', 6)],\n",
        "    'C': [('E', 2)],\n",
        "    'D': [('E', 3)],\n",
        "    'E': []\n",
        "}\n",
        "\n",
        "# Define heuristic values for each node\n",
        "heuristic = {\n",
        "    'A': 5,\n",
        "    'B': 3,\n",
        "    'C': 3,\n",
        "    'D': 6,\n",
        "    'E': 0\n",
        "}\n",
        "\n",
        "# Run Best-First Search from node 'A' to node 'E'\n",
        "path = best_first_search(graph, 'A', 'E', heuristic)\n",
        "print(\"Path found by Best-First Search:\", path)\n"
      ],
      "metadata": {
        "colab": {
          "base_uri": "https://localhost:8080/"
        },
        "id": "wZc_Hz8yxRwO",
        "outputId": "b1c929c8-179e-4751-ed55-aaf10d8719f2"
      },
      "execution_count": 1,
      "outputs": [
        {
          "output_type": "stream",
          "name": "stdout",
          "text": [
            "Path found by Best-First Search: ['A', 'B', 'E']\n"
          ]
        }
      ]
    },
    {
      "cell_type": "code",
      "source": [
        "import heapq\n",
        "\n",
        "def a_star_search(graph, start, goal, heuristic):\n",
        "    # Priority queue for nodes to explore; each entry is a tuple (cost, node)\n",
        "    open_list = []\n",
        "    heapq.heappush(open_list, (0 + heuristic[start], 0, start))  # (f = g + h, g, node)\n",
        "\n",
        "    # Dictionaries to keep track of the best paths\n",
        "    came_from = {start: None}\n",
        "    cost_so_far = {start: 0}\n",
        "\n",
        "    while open_list:\n",
        "        # Get the node with the lowest f value\n",
        "        _, current_cost, current = heapq.heappop(open_list)\n",
        "\n",
        "        # If the current node is the goal, reconstruct the path\n",
        "        if current == goal:\n",
        "            break\n",
        "\n",
        "        for neighbor, edge_cost in graph[current]:\n",
        "            new_cost = current_cost + edge_cost  # Calculate g(new node)\n",
        "            # If the neighbor has not been explored yet or a cheaper path is found\n",
        "            if neighbor not in cost_so_far or new_cost < cost_so_far[neighbor]:\n",
        "                cost_so_far[neighbor] = new_cost\n",
        "                priority = new_cost + heuristic[neighbor]  # Calculate f(new node) = g + h\n",
        "                heapq.heappush(open_list, (priority, new_cost, neighbor))\n",
        "                came_from[neighbor] = current\n",
        "\n",
        "    # Reconstruct the path from goal to start\n",
        "    path = []\n",
        "    node = goal\n",
        "    while node is not None:\n",
        "        path.append(node)\n",
        "        node = came_from[node]\n",
        "    path.reverse()\n",
        "    return path\n",
        "\n",
        "# Define the graph as an adjacency list with edge costs\n",
        "graph = {\n",
        "    'A': [('B', 1), ('C', 4), ('D', 2)],\n",
        "    'B': [('E', 6)],\n",
        "    'C': [('E', 2)],\n",
        "    'D': [('E', 3)],\n",
        "    'E': []\n",
        "}\n",
        "\n",
        "# Define heuristic values for each node\n",
        "heuristic = {\n",
        "    'A': 5,\n",
        "    'B': 3,\n",
        "    'C': 3,\n",
        "    'D': 6,\n",
        "    'E': 0\n",
        "}\n",
        "\n",
        "# Run A* Search from node 'A' to node 'E'\n",
        "path = a_star_search(graph, 'A', 'E', heuristic)\n",
        "print(\"Path found by A* Search:\", path)\n"
      ],
      "metadata": {
        "colab": {
          "base_uri": "https://localhost:8080/"
        },
        "id": "YyusBESpx2IJ",
        "outputId": "b118ca7a-c5cb-48d7-eb19-4244a43549c0"
      },
      "execution_count": 2,
      "outputs": [
        {
          "output_type": "stream",
          "name": "stdout",
          "text": [
            "Path found by A* Search: ['A', 'C', 'E']\n"
          ]
        }
      ]
    },
    {
      "cell_type": "markdown",
      "source": [
        "Assignment Part"
      ],
      "metadata": {
        "id": "Dd0H0Yhw-IC6"
      }
    },
    {
      "cell_type": "markdown",
      "source": [
        "Admissible (but not consistant) Heuristics"
      ],
      "metadata": {
        "id": "V618-MAT-MLK"
      }
    },
    {
      "cell_type": "code",
      "source": [
        "heuristic = {\n",
        "    'A': 5,\n",
        "    'B': 2,\n",
        "    'C': 1,\n",
        "    'D': 2,\n",
        "    'E': 0\n",
        "}\n",
        "\n",
        "# Run A* Search from node 'A' to node 'E'\n",
        "path = a_star_search(graph, 'A', 'E', heuristic)\n",
        "print(\"Path found by A* Search:\", path)\n",
        "\n",
        "# Run Best-First Search from node 'A' to node 'E'\n",
        "path = best_first_search(graph, 'A', 'E', heuristic)\n",
        "print(\"Path found by Best-First Search:\", path)\n"
      ],
      "metadata": {
        "id": "Od_F-3aB-D_9",
        "colab": {
          "base_uri": "https://localhost:8080/"
        },
        "outputId": "b063ff38-2584-4e12-e10e-fdbcbf29c65c"
      },
      "execution_count": 3,
      "outputs": [
        {
          "output_type": "stream",
          "name": "stdout",
          "text": [
            "Path found by A* Search: ['A', 'D', 'E']\n",
            "Path found by Best-First Search: ['A', 'C', 'E']\n"
          ]
        }
      ]
    },
    {
      "cell_type": "markdown",
      "source": [
        "Consistant Heuristics"
      ],
      "metadata": {
        "id": "zXANU_2_-4vN"
      }
    },
    {
      "cell_type": "code",
      "source": [
        "heuristic = {\n",
        "  'A': 6,\n",
        "  'B': 6,\n",
        "  'C': 2,\n",
        "  'D': 3,\n",
        "  'E': 0\n",
        "}\n",
        "\n",
        "# Run A* Search from node 'A' to node 'E'\n",
        "path = a_star_search(graph, 'A', 'E', heuristic)\n",
        "print(\"Path found by A* Search:\", path)\n",
        "\n",
        "# Run Best-First Search from node 'A' to node 'E'\n",
        "path = best_first_search(graph, 'A', 'E', heuristic)\n",
        "print(\"Path found by Best-First Search:\", path)"
      ],
      "metadata": {
        "id": "GhaqR7ox-36p",
        "colab": {
          "base_uri": "https://localhost:8080/"
        },
        "outputId": "bc78f333-75f6-40a4-a718-3d19266c0fcf"
      },
      "execution_count": 4,
      "outputs": [
        {
          "output_type": "stream",
          "name": "stdout",
          "text": [
            "Path found by A* Search: ['A', 'D', 'E']\n",
            "Path found by Best-First Search: ['A', 'C', 'E']\n"
          ]
        }
      ]
    },
    {
      "cell_type": "markdown",
      "source": [
        "Random Heuristics"
      ],
      "metadata": {
        "id": "uP4gWGyu_Ivk"
      }
    },
    {
      "cell_type": "code",
      "source": [
        "heuristic = {\n",
        "    'A': 10,\n",
        "    'B': 3,\n",
        "    'C': 8,\n",
        "    'D': 4,\n",
        "    'E': 0\n",
        "}\n",
        "\n",
        "# Run A* Search from node 'A' to node 'E'\n",
        "path = a_star_search(graph, 'A', 'E', heuristic)\n",
        "print(\"Path found by A* Search:\", path)\n",
        "\n",
        "# Run Best-First Search from node 'A' to node 'E'\n",
        "path = best_first_search(graph, 'A', 'E', heuristic)\n",
        "print(\"Path found by Best-First Search:\", path)"
      ],
      "metadata": {
        "id": "Y32qc9IN_DcR",
        "colab": {
          "base_uri": "https://localhost:8080/"
        },
        "outputId": "42c9ca99-faf8-4df9-8f51-5114070fc6e1"
      },
      "execution_count": 5,
      "outputs": [
        {
          "output_type": "stream",
          "name": "stdout",
          "text": [
            "Path found by A* Search: ['A', 'D', 'E']\n",
            "Path found by Best-First Search: ['A', 'B', 'E']\n"
          ]
        }
      ]
    }
  ]
}